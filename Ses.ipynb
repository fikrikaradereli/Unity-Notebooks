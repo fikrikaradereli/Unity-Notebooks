{
 "cells": [
  {
   "cell_type": "markdown",
   "metadata": {},
   "source": [
    "# Ses"
   ]
  },
  {
   "cell_type": "code",
   "execution_count": null,
   "metadata": {},
   "outputs": [],
   "source": [
    "public class PlayerController : MonoBehaviour\n",
    "{\n",
    "    public AudioClip jumpSound;\n",
    "    public AudioClip crashSound;\n",
    "    private AudioSource playerAudio;\n",
    "\n",
    "    // Start is called before the first frame update\n",
    "    void Start()\n",
    "    {\n",
    "        playerAudio = GetComponent<AudioSource>();\n",
    "    }\n",
    "\n",
    "    // Update is called once per frame\n",
    "    void Update()\n",
    "    {\n",
    "        if (Input.GetKeyDown(KeyCode.Space) && isOnGround && !gameOver)\n",
    "        {\n",
    "            playerAudio.PlayOneShot(jumpSound, 1.0f);\n",
    "        }\n",
    "    }\n",
    "\n",
    "    private void OnCollisionEnter(Collision collision)\n",
    "    {\n",
    "        if (collision.gameObject.CompareTag(\"Obstacle\"))\n",
    "        {\n",
    "            playerAudio.PlayOneShot(crashSound, 1.0f);\n",
    "        }\n",
    "    }\n",
    "}"
   ]
  }
 ],
 "metadata": {
  "kernelspec": {
   "display_name": ".NET (C#)",
   "language": "C#",
   "name": ".net-csharp"
  },
  "language_info": {
   "file_extension": ".cs",
   "mimetype": "text/x-csharp",
   "name": "C#",
   "pygments_lexer": "csharp",
   "version": "8.0"
  }
 },
 "nbformat": 4,
 "nbformat_minor": 4
}

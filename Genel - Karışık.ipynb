{
 "cells": [
  {
   "cell_type": "markdown",
   "metadata": {},
   "source": [
    "# Yedek Alma\n",
    "\n",
    "Assets'e sağ tıklayıp Export Package denip All->Export dedikten sonra yeni bir klasör oluşturup (adı backups olabilir) oluşacak yedek için bir isim girilir. Sonuna v.X.X gibi bir versiyon numarası eklemek münasiptir."
   ]
  },
  {
   "cell_type": "markdown",
   "metadata": {},
   "source": [
    "# OnCollisionEnter() vs OnTriggerEnter()\n",
    "\n",
    "- Rigidbody çarpışmaları için: ```OnCollisionEnter()```\n",
    "- Trigger tabanlı çarpışmalar için: ```OnTriggerEnter()```"
   ]
  },
  {
   "cell_type": "markdown",
   "metadata": {},
   "source": [
    "# transform.Translate() vs rigidbody.AddForce()\n",
    "\n",
    "Transform fizik tabanlı bir komponent değildir. Bir nesnenin pozisyonu, dönüşü ve ölçeğidir. Fizik sistemiyle etkileşmez. ```transform.Translate()``` fizik sistemini göz ardı ederek hareket ettirir.\n",
    "\n",
    "Rigidbody ise fiziksel etkileşimler, güç ve çarpışmaları ele alan fizik tabanlı bir bileşendir. Doğrudan ```rigidbody.velocity``` kullanılmamalı. Bunun yerine ```rigidbody.AddForce()``` ile güç uygulanarak hareket sağlanmalıdır."
   ]
  }
 ],
 "metadata": {
  "kernelspec": {
   "display_name": ".NET (C#)",
   "language": "C#",
   "name": ".net-csharp"
  },
  "language_info": {
   "file_extension": ".cs",
   "mimetype": "text/x-csharp",
   "name": "C#",
   "pygments_lexer": "csharp",
   "version": "8.0"
  }
 },
 "nbformat": 4,
 "nbformat_minor": 4
}

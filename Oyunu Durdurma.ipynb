{
 "cells": [
  {
   "cell_type": "markdown",
   "metadata": {},
   "source": [
    "# Game Over\n",
    "\n",
    "Önce oyunun durma koşulunu belirlemek gerek. Mesela Player'ın engele çarpaması olabilir. Başka nesnelerle de çarpışma durumu olacağı için etiket yöntemini kullanabiliriz. Önce editörde game objesine etiket ekleyip ardından çarpısma durumunu ```CompareTag()``` ile kontrol edip gameOver durumunu true ya çekmeliyiz."
   ]
  },
  {
   "cell_type": "code",
   "execution_count": null,
   "metadata": {},
   "outputs": [],
   "source": [
    "public class PlayerController : MonoBehaviour\n",
    "{\n",
    "    public bool gameOver = false;\n",
    "\n",
    "    private void OnCollisionEnter(Collision collision)\n",
    "    {\n",
    "        if (collision.gameObject.CompareTag(\"Obstacle\"))\n",
    "        {\n",
    "            gameOver = true;\n",
    "            Debug.Log(\"Game Over\"); // Gerçekte UI elemanı ile ekranda göstermek daha uygun.\n",
    "        }\n",
    "    }\n",
    "}"
   ]
  },
  {
   "cell_type": "markdown",
   "metadata": {},
   "source": [
    "Diğer oyun mekaniklerini PlayerController'daki gameOver'a göre işlenir. ```GameObject.Find(\"Player\").GetComponent<PlayerController>()``` ile script'e ordan da gameOver'a erişilir. gameOver false iken akış sağlanır."
   ]
  },
  {
   "cell_type": "code",
   "execution_count": null,
   "metadata": {},
   "outputs": [],
   "source": [
    "public class MoveLeft : MonoBehaviour\n",
    "{\n",
    "    private float speed = 30;\n",
    "    private PlayerController playerControllerScript;\n",
    "\n",
    "    // Start is called before the first frame update\n",
    "    void Start()\n",
    "    {\n",
    "        playerControllerScript = GameObject.Find(\"Player\").GetComponent<PlayerController>();\n",
    "    }\n",
    "\n",
    "    // Update is called once per frame\n",
    "    void Update()\n",
    "    {\n",
    "        if (!playerControllerScript.gameOver)\n",
    "        {\n",
    "            transform.Translate(Vector3.left * Time.deltaTime * speed);\n",
    "        }\n",
    "    }\n",
    "}"
   ]
  },
  {
   "cell_type": "markdown",
   "metadata": {},
   "source": [
    "GameOver durumuna göre engel üretimi de bu şekildedir."
   ]
  },
  {
   "cell_type": "code",
   "execution_count": null,
   "metadata": {},
   "outputs": [],
   "source": [
    "using System.Collections;\n",
    "using System.Collections.Generic;\n",
    "using UnityEngine;\n",
    "\n",
    "public class SpawnManager : MonoBehaviour\n",
    "{\n",
    "    public GameObject obstaclePrefab;\n",
    "    private Vector3 spawnPos = new Vector3(25, 0, 0);\n",
    "    private float startDelay = 2;\n",
    "    private float repeatRate = 2;\n",
    "    private PlayerController playerControllerScript;\n",
    "\n",
    "    // Start is called before the first frame update\n",
    "    void Start()\n",
    "    {\n",
    "        playerControllerScript = GameObject.Find(\"Player\").GetComponent<PlayerController>();\n",
    "        InvokeRepeating(nameof(SpawnObstacle), startDelay, repeatRate);\n",
    "    }\n",
    "\n",
    "    // Update is called once per frame\n",
    "    void Update()\n",
    "    {\n",
    "        \n",
    "    }\n",
    "\n",
    "    private void SpawnObstacle()\n",
    "    {\n",
    "        if (!playerControllerScript.gameOver)\n",
    "        {\n",
    "            Instantiate(obstaclePrefab, spawnPos, obstaclePrefab.transform.rotation);\n",
    "        }\n",
    "    }\n",
    "}"
   ]
  }
 ],
 "metadata": {
  "kernelspec": {
   "display_name": ".NET (C#)",
   "language": "C#",
   "name": ".net-csharp"
  },
  "language_info": {
   "file_extension": ".cs",
   "mimetype": "text/x-csharp",
   "name": "C#",
   "pygments_lexer": "csharp",
   "version": "8.0"
  }
 },
 "nbformat": 4,
 "nbformat_minor": 4
}

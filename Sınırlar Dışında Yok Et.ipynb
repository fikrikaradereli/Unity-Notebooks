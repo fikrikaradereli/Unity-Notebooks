{
 "cells": [
  {
   "cell_type": "markdown",
   "metadata": {},
   "source": [
    "# Destroy out of Bounds\n",
    "\n",
    "Sınırlar dışına çıkınca nesneyi yok et."
   ]
  },
  {
   "cell_type": "code",
   "execution_count": null,
   "metadata": {},
   "outputs": [],
   "source": [
    "public class DestroyOutOfBounds : MonoBehaviour\n",
    "{\n",
    "    private float topBound = 30.0f;\n",
    "    private float lowerBound = -10.0f;\n",
    "\n",
    "    // Update is called once per frame\n",
    "    void Update()\n",
    "    {\n",
    "        if (transform.position.z > topBound)\n",
    "        {\n",
    "            Destroy(gameObject);\n",
    "        }\n",
    "        else if (transform.position.z < lowerBound)\n",
    "        {\n",
    "            Destroy(gameObject);\n",
    "        }\n",
    "    }\n",
    "}"
   ]
  }
 ],
 "metadata": {
  "kernelspec": {
   "display_name": ".NET (C#)",
   "language": "C#",
   "name": ".net-csharp"
  },
  "language_info": {
   "file_extension": ".cs",
   "mimetype": "text/x-csharp",
   "name": "C#",
   "pygments_lexer": "csharp",
   "version": "8.0"
  }
 },
 "nbformat": 4,
 "nbformat_minor": 4
}

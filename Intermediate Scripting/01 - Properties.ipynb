{
 "cells": [
  {
   "cell_type": "markdown",
   "metadata": {},
   "source": [
    "# Properties"
   ]
  },
  {
   "cell_type": "code",
   "execution_count": null,
   "metadata": {},
   "outputs": [],
   "source": [
    "using UnityEngine;\n",
    "using System.Collections;\n",
    "\n",
    "public class Player\n",
    "{\n",
    "    //Member variables can be referred to as\n",
    "    //fields.\n",
    "    private int experience;\n",
    "\n",
    "    //Experience is a basic property\n",
    "    public int Experience\n",
    "    {\n",
    "        get\n",
    "        {\n",
    "            //Some other code\n",
    "            return experience;\n",
    "        }\n",
    "        set\n",
    "        {\n",
    "            //Some other code\n",
    "            experience = value;\n",
    "        }\n",
    "    }\n",
    "\n",
    "    //Level is a property that converts experience\n",
    "    //points into the leve of a player automatically\n",
    "    public int Level\n",
    "    {\n",
    "        get\n",
    "        {\n",
    "            return experience / 1000;\n",
    "        }\n",
    "        set\n",
    "        {\n",
    "            experience = value * 1000;\n",
    "        }\n",
    "    }\n",
    "\n",
    "    //This is an example of an auto-implemented\n",
    "    //property\n",
    "    public int Health{ get; set;}\n",
    "}\n"
   ]
  },
  {
   "cell_type": "code",
   "execution_count": null,
   "metadata": {},
   "outputs": [],
   "source": [
    "using UnityEngine;\n",
    "using System.Collections;\n",
    "\n",
    "public class Game : MonoBehaviour \n",
    "{\n",
    "    void Start () \n",
    "    {\n",
    "        Player myPlayer = new Player();\n",
    "\n",
    "        //Properties can be used just like variables\n",
    "        myPlayer.Experience = 5;\n",
    "        int x = myPlayer.Experience;\n",
    "    }\n",
    "}"
   ]
  }
 ],
 "metadata": {
  "kernelspec": {
   "display_name": ".NET (C#)",
   "language": "C#",
   "name": ".net-csharp"
  },
  "language_info": {
   "file_extension": ".cs",
   "mimetype": "text/x-csharp",
   "name": "C#",
   "pygments_lexer": "csharp",
   "version": "8.0"
  }
 },
 "nbformat": 4,
 "nbformat_minor": 4
}

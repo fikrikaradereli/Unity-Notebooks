{
 "cells": [
  {
   "cell_type": "markdown",
   "metadata": {},
   "source": [
    "# Extension Methods"
   ]
  },
  {
   "cell_type": "code",
   "execution_count": null,
   "metadata": {},
   "outputs": [],
   "source": [
    "using UnityEngine;\n",
    "using System.Collections;\n",
    "\n",
    "//It is common to create a class to contain all of your\n",
    "//extension methods. This class must be static.\n",
    "public static class ExtensionMethods\n",
    "{\n",
    "    //Even though they are used like normal methods, extension\n",
    "    //methods must be declared static. Notice that the first\n",
    "    //parameter has the 'this' keyword followed by a Transform\n",
    "    //variable. This variable denotes which class the extension\n",
    "    //method becomes a part of.\n",
    "    public static void ResetTransformation(this Transform trans)\n",
    "    {\n",
    "        trans.position = Vector3.zero;\n",
    "        trans.localRotation = Quaternion.identity;\n",
    "        trans.localScale = new Vector3(1, 1, 1);\n",
    "    }\n",
    "}"
   ]
  },
  {
   "cell_type": "code",
   "execution_count": null,
   "metadata": {},
   "outputs": [],
   "source": [
    "using UnityEngine;\n",
    "using System.Collections;\n",
    "\n",
    "public class SomeClass : MonoBehaviour \n",
    "{\n",
    "    void Start () {\n",
    "        //Notice how you pass no parameter into this\n",
    "        //extension method even though you had one in the\n",
    "        //method declaration. The transform object that\n",
    "        //this method is called from automatically gets\n",
    "        //passed in as the first parameter.\n",
    "        transform.ResetTransformation();\n",
    "    }\n",
    "}"
   ]
  }
 ],
 "metadata": {
  "kernelspec": {
   "display_name": ".NET (C#)",
   "language": "C#",
   "name": ".net-csharp"
  },
  "language_info": {
   "file_extension": ".cs",
   "mimetype": "text/x-csharp",
   "name": "C#",
   "pygments_lexer": "csharp",
   "version": "8.0"
  }
 },
 "nbformat": 4,
 "nbformat_minor": 4
}

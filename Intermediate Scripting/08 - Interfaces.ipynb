{
 "cells": [
  {
   "cell_type": "markdown",
   "metadata": {},
   "source": [
    "# Interfaces"
   ]
  },
  {
   "cell_type": "code",
   "execution_count": null,
   "metadata": {},
   "outputs": [],
   "source": [
    "using UnityEngine;\n",
    "using System.Collections;\n",
    "\n",
    "//This is a basic interface with a single required\n",
    "//method.\n",
    "public interface IKillable\n",
    "{\n",
    "    void Kill();\n",
    "}\n",
    "\n",
    "//This is a generic interface where T is a placeholder\n",
    "//for a data type that will be provided by the \n",
    "//implementing class.\n",
    "public interface IDamageable<T>\n",
    "{\n",
    "    void Damage(T damageTaken);\n",
    "}"
   ]
  },
  {
   "cell_type": "code",
   "execution_count": null,
   "metadata": {},
   "outputs": [],
   "source": [
    "using UnityEngine;\n",
    "using System.Collections;\n",
    "\n",
    "public class Avatar : MonoBehaviour, IKillable, IDamageable<float>\n",
    "{\n",
    "    //The required method of the IKillable interface\n",
    "    public void Kill()\n",
    "    {\n",
    "        //Do something fun\n",
    "    }\n",
    "\n",
    "    //The required method of the IDamageable interface\n",
    "    public void Damage(float damageTaken)\n",
    "    {\n",
    "        //Do something fun\n",
    "    }\n",
    "}\n"
   ]
  }
 ],
 "metadata": {
  "kernelspec": {
   "display_name": ".NET (C#)",
   "language": "C#",
   "name": ".net-csharp"
  },
  "language_info": {
   "file_extension": ".cs",
   "mimetype": "text/x-csharp",
   "name": "C#",
   "pygments_lexer": "csharp",
   "version": "8.0"
  }
 },
 "nbformat": 4,
 "nbformat_minor": 4
}

{
 "cells": [
  {
   "cell_type": "markdown",
   "metadata": {},
   "source": [
    "# Attributes"
   ]
  },
  {
   "cell_type": "code",
   "execution_count": null,
   "metadata": {},
   "outputs": [],
   "source": [
    "using UnityEngine;\n",
    "using System.Collections;\n",
    "\n",
    "public class SpinScript : MonoBehaviour \n",
    "{\n",
    "    [Range(-100, 100)] public int speed = 0;\n",
    "\n",
    "    void Update () \n",
    "    {\n",
    "        transform.Rotate(new Vector3(0, speed * Time.deltaTime, 0));\n",
    "    }\n",
    "}"
   ]
  },
  {
   "cell_type": "code",
   "execution_count": null,
   "metadata": {},
   "outputs": [],
   "source": [
    "using UnityEngine;\n",
    "using System.Collections;\n",
    "\n",
    "[ExecuteInEditMode]\n",
    "public class ColorScript : MonoBehaviour \n",
    "{\n",
    "    void Start()\n",
    "    {\n",
    "        renderer.sharedMaterial.color = Color.red;\n",
    "    }\n",
    "}"
   ]
  }
 ],
 "metadata": {
  "kernelspec": {
   "display_name": ".NET (C#)",
   "language": "C#",
   "name": ".net-csharp"
  },
  "language_info": {
   "file_extension": ".cs",
   "mimetype": "text/x-csharp",
   "name": "C#",
   "pygments_lexer": "csharp",
   "version": "8.0"
  }
 },
 "nbformat": 4,
 "nbformat_minor": 4
}

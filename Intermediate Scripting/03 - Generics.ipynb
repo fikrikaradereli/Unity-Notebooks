{
 "cells": [
  {
   "cell_type": "markdown",
   "metadata": {},
   "source": [
    "# Generics"
   ]
  },
  {
   "cell_type": "code",
   "execution_count": null,
   "metadata": {},
   "outputs": [],
   "source": [
    "using UnityEngine;\n",
    "using System.Collections;\n",
    "\n",
    "public class SomeClass \n",
    "{\n",
    "    //Here is a generic method. Notice the generic\n",
    "    //type 'T'. This 'T' will be replaced at runtime\n",
    "    //with an actual type. \n",
    "    public T GenericMethod<T>(T param)\n",
    "    {\n",
    "        return param;\n",
    "    }\n",
    "}"
   ]
  },
  {
   "cell_type": "code",
   "execution_count": null,
   "metadata": {},
   "outputs": [],
   "source": [
    "using UnityEngine;\n",
    "using System.Collections;\n",
    "\n",
    "public class SomeOtherClass : MonoBehaviour \n",
    "{\n",
    "    void Start () \n",
    "    {\n",
    "        SomeClass myClass = new SomeClass();\n",
    "\n",
    "        //In order to use this method you must\n",
    "        //tell the method what type to replace\n",
    "        //'T' with.\n",
    "        myClass.GenericMethod<int>(5);\n",
    "    }\n",
    "}"
   ]
  },
  {
   "cell_type": "code",
   "execution_count": null,
   "metadata": {},
   "outputs": [],
   "source": [
    "using UnityEngine;\n",
    "using System.Collections;\n",
    "\n",
    "//Here is a generic class. Notice the generic type 'T'.\n",
    "//'T' will be replaced with an actual type, as will also \n",
    "//instances of the type 'T' used in the class.\n",
    "public class GenericClass <T>\n",
    "{\n",
    "    T item;\n",
    "\n",
    "    public void UpdateItem(T newItem)\n",
    "    {\n",
    "        item = newItem;\n",
    "    }\n",
    "}"
   ]
  },
  {
   "cell_type": "code",
   "execution_count": null,
   "metadata": {},
   "outputs": [],
   "source": [
    "using UnityEngine;\n",
    "using System.Collections;\n",
    "\n",
    "public class GenericClassExample : MonoBehaviour \n",
    "{\n",
    "    void Start () \n",
    "    {        \n",
    "        //In order to create an object of a generic class, you must\n",
    "        //specify the type you want the class to have.\n",
    "        GenericClass<int> myClass = new GenericClass<int>();\n",
    "\n",
    "        myClass.UpdateItem(5);\n",
    "    }\n",
    "}"
   ]
  }
 ],
 "metadata": {
  "kernelspec": {
   "display_name": ".NET (C#)",
   "language": "C#",
   "name": ".net-csharp"
  },
  "language_info": {
   "file_extension": ".cs",
   "mimetype": "text/x-csharp",
   "name": "C#",
   "pygments_lexer": "csharp",
   "version": "8.0"
  }
 },
 "nbformat": 4,
 "nbformat_minor": 4
}

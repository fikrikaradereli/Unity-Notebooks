{
 "cells": [
  {
   "cell_type": "markdown",
   "metadata": {},
   "source": [
    "# Delegates\n",
    "\n",
    "Delegates = container for functions"
   ]
  },
  {
   "cell_type": "code",
   "execution_count": null,
   "metadata": {},
   "outputs": [],
   "source": [
    "using UnityEngine;\n",
    "using System.Collections;\n",
    "\n",
    "\n",
    "public class DelegateScript : MonoBehaviour \n",
    "{    \n",
    "    delegate void MyDelegate(int num);\n",
    "    MyDelegate myDelegate;\n",
    "\n",
    "\n",
    "    void Start () \n",
    "    {\n",
    "        myDelegate = PrintNum;\n",
    "        myDelegate(50);\n",
    "\n",
    "        myDelegate = DoubleNum;\n",
    "        myDelegate(50);\n",
    "    }\n",
    "\n",
    "    void PrintNum(int num)\n",
    "    {\n",
    "        print (\"Print Num: \" + num);\n",
    "    }\n",
    "\n",
    "    void DoubleNum(int num)\n",
    "    {\n",
    "        print (\"Double Num: \" + num * 2);\n",
    "    }\n",
    "}"
   ]
  },
  {
   "cell_type": "code",
   "execution_count": null,
   "metadata": {},
   "outputs": [],
   "source": [
    "using UnityEngine;\n",
    "using System.Collections;\n",
    "\n",
    "public class MulticastScript : MonoBehaviour \n",
    "{\n",
    "    delegate void MultiDelegate();\n",
    "    MultiDelegate myMultiDelegate;\n",
    "\n",
    "\n",
    "    void Start () \n",
    "    {\n",
    "        myMultiDelegate += PowerUp;\n",
    "        myMultiDelegate += TurnRed;\n",
    "\n",
    "        if(myMultiDelegate != null)\n",
    "        {\n",
    "            myMultiDelegate();\n",
    "        }\n",
    "    }\n",
    "\n",
    "    void PowerUp()\n",
    "    {\n",
    "        print (\"Orb is powering up!\");\n",
    "    }\n",
    "\n",
    "    void TurnRed()\n",
    "    {\n",
    "        renderer.material.color = Color.red;\n",
    "    }\n",
    "}"
   ]
  }
 ],
 "metadata": {
  "kernelspec": {
   "display_name": ".NET (C#)",
   "language": "C#",
   "name": ".net-csharp"
  },
  "language_info": {
   "file_extension": ".cs",
   "mimetype": "text/x-csharp",
   "name": "C#",
   "pygments_lexer": "csharp",
   "version": "8.0"
  }
 },
 "nbformat": 4,
 "nbformat_minor": 4
}

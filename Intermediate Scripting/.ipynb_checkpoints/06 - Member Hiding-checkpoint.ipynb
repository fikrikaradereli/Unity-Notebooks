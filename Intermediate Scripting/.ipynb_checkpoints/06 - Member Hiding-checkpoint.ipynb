{
 "cells": [
  {
   "cell_type": "markdown",
   "metadata": {},
   "source": [
    "# Member Hiding"
   ]
  },
  {
   "cell_type": "code",
   "execution_count": null,
   "metadata": {},
   "outputs": [],
   "source": [
    "using UnityEngine;\n",
    "using System.Collections;\n",
    "\n",
    "public class Humanoid\n",
    "{\n",
    "    //Base version of the Yell method\n",
    "    public void Yell()\n",
    "    {\n",
    "        Debug.Log (\"Humanoid version of the Yell() method\");\n",
    "    }\n",
    "}"
   ]
  },
  {
   "cell_type": "code",
   "execution_count": null,
   "metadata": {},
   "outputs": [],
   "source": [
    "using UnityEngine;\n",
    "using System.Collections;\n",
    "\n",
    "public class Enemy : Humanoid\n",
    "{\n",
    "    //This hides the Humanoid version.\n",
    "    new public void Yell()\n",
    "    {\n",
    "        Debug.Log (\"Enemy version of the Yell() method\");\n",
    "    }\n",
    "}"
   ]
  },
  {
   "cell_type": "code",
   "execution_count": null,
   "metadata": {},
   "outputs": [],
   "source": [
    "using UnityEngine;\n",
    "using System.Collections;\n",
    "\n",
    "public class Orc : Enemy\n",
    "{\n",
    "    //This hides the Enemy version.\n",
    "    new public void Yell()\n",
    "    {\n",
    "        Debug.Log (\"Orc version of the Yell() method\");\n",
    "    }\n",
    "}"
   ]
  },
  {
   "cell_type": "code",
   "execution_count": null,
   "metadata": {},
   "outputs": [],
   "source": [
    "using UnityEngine;\n",
    "using System.Collections;\n",
    "\n",
    "public class WarBand : MonoBehaviour \n",
    "{\n",
    "    void Start () \n",
    "    {\n",
    "        Humanoid human = new Humanoid();\n",
    "        Humanoid enemy = new Enemy();\n",
    "        Humanoid orc = new Orc();\n",
    "\n",
    "        //Notice how each Humanoid variable contains\n",
    "        //a reference to a different class in the\n",
    "        //inheritance hierarchy, yet each of them\n",
    "        //calls the Humanoid Yell() method.\n",
    "        human.Yell();\n",
    "        enemy.Yell();\n",
    "        orc.Yell();\n",
    "    }\n",
    "}"
   ]
  }
 ],
 "metadata": {
  "kernelspec": {
   "display_name": ".NET (C#)",
   "language": "C#",
   "name": ".net-csharp"
  },
  "language_info": {
   "file_extension": ".cs",
   "mimetype": "text/x-csharp",
   "name": "C#",
   "pygments_lexer": "csharp",
   "version": "8.0"
  }
 },
 "nbformat": 4,
 "nbformat_minor": 4
}

{
 "cells": [
  {
   "cell_type": "markdown",
   "metadata": {},
   "source": [
    "# Polymorphism"
   ]
  },
  {
   "cell_type": "code",
   "execution_count": null,
   "metadata": {},
   "outputs": [],
   "source": [
    "using UnityEngine;\n",
    "using System.Collections;\n",
    "\n",
    "public class Fruit \n",
    "{\n",
    "    public Fruit()\n",
    "    {\n",
    "        Debug.Log(\"1st Fruit Constructor Called\");\n",
    "    }\n",
    "\n",
    "    public void Chop()\n",
    "    {\n",
    "        Debug.Log(\"The fruit has been chopped.\");        \n",
    "    }\n",
    "\n",
    "    public void SayHello()\n",
    "    {\n",
    "        Debug.Log(\"Hello, I am a fruit.\");\n",
    "    }\n",
    "}"
   ]
  },
  {
   "cell_type": "code",
   "execution_count": null,
   "metadata": {},
   "outputs": [],
   "source": [
    "using UnityEngine;\n",
    "using System.Collections;\n",
    "\n",
    "public class Apple : Fruit \n",
    "{\n",
    "    public Apple()\n",
    "    {\n",
    "        Debug.Log(\"1st Apple Constructor Called\");\n",
    "    }\n",
    "\n",
    "    //Apple has its own version of Chop() and SayHello(). \n",
    "    //When running the scripts, notice when Fruit's version\n",
    "    //of these methods are called and when Apple's version\n",
    "    //of these methods are called.\n",
    "    //In this example, the \"new\" keyword is used to supress\n",
    "    //warnings from Unity while not overriding the methods\n",
    "    //in the Apple class.\n",
    "    public new void Chop()\n",
    "    {\n",
    "        Debug.Log(\"The apple has been chopped.\");        \n",
    "    }\n",
    "\n",
    "    public new void SayHello()\n",
    "    {\n",
    "        Debug.Log(\"Hello, I am an apple.\");\n",
    "    }\n",
    "}"
   ]
  },
  {
   "cell_type": "code",
   "execution_count": null,
   "metadata": {},
   "outputs": [],
   "source": [
    "using UnityEngine;\n",
    "using System.Collections;\n",
    "\n",
    "public class FruitSalad : MonoBehaviour\n",
    "{\n",
    "    void Start () \n",
    "    {\n",
    "        //Notice here how the variable \"myFruit\" is of type\n",
    "        //Fruit but is being assigned a reference to an Apple. This\n",
    "        //works because of Polymorphism. Since an Apple is a Fruit,\n",
    "        //this works just fine. While the Apple reference is stored\n",
    "        //in a Fruit variable, it can only be used like a Fruit\n",
    "        Fruit myFruit = new Apple();\n",
    "\n",
    "        myFruit.SayHello();\n",
    "        myFruit.Chop();\n",
    "\n",
    "        //This is called downcasting. The variable \"myFruit\" which is \n",
    "        //of type Fruit, actually contains a reference to an Apple. Therefore,\n",
    "        //it can safely be turned back into an Apple variable. This allows\n",
    "        //it to be used like an Apple, where before it could only be used\n",
    "        //like a Fruit.\n",
    "        Apple myApple = (Apple)myFruit;\n",
    "\n",
    "        myApple.SayHello();\n",
    "        myApple.Chop();    \n",
    "    }\n",
    "}"
   ]
  }
 ],
 "metadata": {
  "kernelspec": {
   "display_name": ".NET (C#)",
   "language": "C#",
   "name": ".net-csharp"
  },
  "language_info": {
   "file_extension": ".cs",
   "mimetype": "text/x-csharp",
   "name": "C#",
   "pygments_lexer": "csharp",
   "version": "8.0"
  }
 },
 "nbformat": 4,
 "nbformat_minor": 4
}

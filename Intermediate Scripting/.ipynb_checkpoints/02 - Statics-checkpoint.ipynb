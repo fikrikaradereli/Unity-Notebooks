{
 "cells": [
  {
   "cell_type": "markdown",
   "metadata": {},
   "source": [
    "# Statics"
   ]
  },
  {
   "cell_type": "code",
   "execution_count": null,
   "metadata": {},
   "outputs": [],
   "source": [
    "using UnityEngine;\n",
    "using System.Collections;\n",
    "\n",
    "public class Enemy\n",
    "{\n",
    "    //Static variables are shared across all instances\n",
    "    //of a class.\n",
    "    public static int enemyCount = 0;\n",
    "\n",
    "    public Enemy()\n",
    "    {\n",
    "        //Increment the static variable to know how many\n",
    "        //objects of this class have been created.\n",
    "        enemyCount++;\n",
    "    }\n",
    "}"
   ]
  },
  {
   "cell_type": "code",
   "execution_count": null,
   "metadata": {},
   "outputs": [],
   "source": [
    "using UnityEngine;\n",
    "using System.Collections;\n",
    "\n",
    "public class Game\n",
    "{\n",
    "    void Start () \n",
    "    {\n",
    "        Enemy enemy1 = new Enemy();\n",
    "        Enemy enemy2 = new Enemy();\n",
    "        Enemy enemy3 = new Enemy();\n",
    "\n",
    "        //You can access a static variable by using the class name\n",
    "        //and the dot operator.\n",
    "        int x = Enemy.enemyCount;\n",
    "    }\n",
    "}"
   ]
  },
  {
   "cell_type": "code",
   "execution_count": null,
   "metadata": {},
   "outputs": [],
   "source": [
    "using UnityEngine;\n",
    "using System.Collections;\n",
    "\n",
    "public class Player : MonoBehaviour \n",
    "{\n",
    "    //Static variables are shared across all instances\n",
    "    //of a class. \n",
    "    public static int playerCount = 0;\n",
    "\n",
    "    void Start()\n",
    "    {\n",
    "        //Increment the static variable to know how many\n",
    "         //objects of this class have been created.\n",
    "        playerCount++;\n",
    "    }\n",
    "}"
   ]
  },
  {
   "cell_type": "code",
   "execution_count": null,
   "metadata": {},
   "outputs": [],
   "source": [
    "using UnityEngine;\n",
    "using System.Collections;\n",
    "\n",
    "public class PlayerManager : MonoBehaviour \n",
    "{\n",
    "    void Start()\n",
    "    {\n",
    "        //You can access a static variable by using the class name\n",
    "        //and the dot operator.\n",
    "        int x = Player.playerCount;\n",
    "    }\n",
    "}"
   ]
  },
  {
   "cell_type": "code",
   "execution_count": null,
   "metadata": {},
   "outputs": [],
   "source": [
    "using UnityEngine;\n",
    "using System.Collections;\n",
    "\n",
    "public static class Utilities \n",
    "{\n",
    "    //A static method can be invoked without an object\n",
    "    //of a class. Note that static methods cannot access\n",
    "    //non-static member variables.\n",
    "    public static int Add(int num1, int num2)\n",
    "    {\n",
    "        return num1 + num2;\n",
    "    }\n",
    "}"
   ]
  },
  {
   "cell_type": "code",
   "execution_count": null,
   "metadata": {},
   "outputs": [],
   "source": [
    "using UnityEngine;\n",
    "using System.Collections;\n",
    "\n",
    "public class UtilitiesExample : MonoBehaviour \n",
    "{\n",
    "    void Start()\n",
    "    {\n",
    "        //You can access a static method by using the class name\n",
    "        //and the dot operator.\n",
    "        int x = Utilities.Add (5, 6);\n",
    "    }\n",
    "}"
   ]
  }
 ],
 "metadata": {
  "kernelspec": {
   "display_name": ".NET (C#)",
   "language": "C#",
   "name": ".net-csharp"
  },
  "language_info": {
   "file_extension": ".cs",
   "mimetype": "text/x-csharp",
   "name": "C#",
   "pygments_lexer": "csharp",
   "version": "8.0"
  }
 },
 "nbformat": 4,
 "nbformat_minor": 4
}

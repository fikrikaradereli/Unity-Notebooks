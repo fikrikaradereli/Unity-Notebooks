{
 "cells": [
  {
   "cell_type": "markdown",
   "metadata": {},
   "source": [
    "# Quaternions"
   ]
  },
  {
   "cell_type": "code",
   "execution_count": null,
   "metadata": {},
   "outputs": [],
   "source": [
    "using UnityEngine;\n",
    "using System.Collections;\n",
    "\n",
    "public class MotionScript : MonoBehaviour \n",
    "{    \n",
    "    public float speed = 3f;\n",
    "\n",
    "\n",
    "    void Update () \n",
    "    {\n",
    "        transform.Translate(-Input.GetAxis(\"Horizontal\") * speed * Time.deltaTime, 0, 0);\n",
    "    }\n",
    "}"
   ]
  },
  {
   "cell_type": "code",
   "execution_count": null,
   "metadata": {},
   "outputs": [],
   "source": [
    "using UnityEngine;\n",
    "using System.Collections;\n",
    "\n",
    "public class LookAtScript : MonoBehaviour \n",
    "{\n",
    "    public Transform target;\n",
    "\n",
    "\n",
    "    void Update () \n",
    "    {\n",
    "        Vector3 relativePos = target.position - transform.position;\n",
    "        transform.rotation = Quaternion.LookRotation(relativePos);\n",
    "    }\n",
    "}"
   ]
  },
  {
   "cell_type": "code",
   "execution_count": null,
   "metadata": {},
   "outputs": [],
   "source": [
    "using UnityEngine;\n",
    "using System.Collections;\n",
    "\n",
    "public class GravityScript : MonoBehaviour \n",
    "{\n",
    "    public Transform target;\n",
    "\n",
    "\n",
    "    void Update () \n",
    "    {\n",
    "        Vector3 relativePos = (target.position + new Vector3(0, 1.5f, 0)) - transform.position;\n",
    "        Quaternion rotation = Quaternion.LookRotation(relativePos);\n",
    "\n",
    "        Quaternion current = transform.localRotation;\n",
    "\n",
    "        transform.localRotation = Quaternion.Slerp(current, rotation, Time.deltaTime);\n",
    "        transform.Translate(0, 0, 3 * Time.deltaTime);\n",
    "    }\n",
    "}"
   ]
  },
  {
   "cell_type": "code",
   "execution_count": null,
   "metadata": {},
   "outputs": [],
   "source": [
    "using UnityEngine;\n",
    "using System.Collections;\n",
    "\n",
    "public class SomeClass : MonoBehaviour \n",
    "{\n",
    "    void Start () \n",
    "    {\n",
    "        transform.rotation = Quaternion.identity;\n",
    "    }\n",
    "}"
   ]
  }
 ],
 "metadata": {
  "kernelspec": {
   "display_name": ".NET (C#)",
   "language": "C#",
   "name": ".net-csharp"
  },
  "language_info": {
   "file_extension": ".cs",
   "mimetype": "text/x-csharp",
   "name": "C#",
   "pygments_lexer": "csharp",
   "version": "8.0"
  }
 },
 "nbformat": 4,
 "nbformat_minor": 4
}

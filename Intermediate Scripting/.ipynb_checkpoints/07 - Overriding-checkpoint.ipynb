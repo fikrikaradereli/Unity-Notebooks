{
 "cells": [
  {
   "cell_type": "markdown",
   "metadata": {},
   "source": [
    "# Overriding"
   ]
  },
  {
   "cell_type": "code",
   "execution_count": null,
   "metadata": {},
   "outputs": [],
   "source": [
    "using UnityEngine;\n",
    "using System.Collections;\n",
    "\n",
    "public class Fruit \n",
    "{\n",
    "    public Fruit ()\n",
    "    {\n",
    "        Debug.Log(\"1st Fruit Constructor Called\");\n",
    "    }\n",
    "\n",
    "    //These methods are virtual and thus can be overriden\n",
    "    //in child classes\n",
    "    public virtual void Chop ()\n",
    "    {\n",
    "        Debug.Log(\"The fruit has been chopped.\");        \n",
    "    }\n",
    "\n",
    "    public virtual void SayHello ()\n",
    "    {\n",
    "        Debug.Log(\"Hello, I am a fruit.\");\n",
    "    }\n",
    "}"
   ]
  },
  {
   "cell_type": "code",
   "execution_count": null,
   "metadata": {},
   "outputs": [],
   "source": [
    "using UnityEngine;\n",
    "using System.Collections;\n",
    "\n",
    "public class Apple : Fruit \n",
    "{\n",
    "    public Apple ()\n",
    "    {\n",
    "        Debug.Log(\"1st Apple Constructor Called\");\n",
    "    }\n",
    "\n",
    "    //These methods are overrides and therefore\n",
    "    //can override any virtual methods in the parent\n",
    "    //class.\n",
    "    public override void Chop ()\n",
    "    {\n",
    "        base.Chop();\n",
    "        Debug.Log(\"The apple has been chopped.\");        \n",
    "    }\n",
    "\n",
    "    public override void SayHello ()\n",
    "    {\n",
    "        base.SayHello();\n",
    "        Debug.Log(\"Hello, I am an apple.\");\n",
    "    }\n",
    "}"
   ]
  },
  {
   "cell_type": "code",
   "execution_count": null,
   "metadata": {},
   "outputs": [],
   "source": [
    "using UnityEngine;\n",
    "using System.Collections;\n",
    "\n",
    "public class FruitSalad : MonoBehaviour \n",
    "{    \n",
    "    void Start () \n",
    "    {\n",
    "        Apple myApple = new Apple();\n",
    "\n",
    "        //Notice that the Apple version of the methods\n",
    "        //override the fruit versions. Also notice that\n",
    "        //since the Apple versions call the Fruit version with\n",
    "        //the \"base\" keyword, both are called.\n",
    "        myApple.SayHello();\n",
    "        myApple.Chop();    \n",
    "\n",
    "        //Overriding is also useful in a polymorphic situation.\n",
    "        //Since the methods of the Fruit class are \"virtual\" and\n",
    "        //the methods of the Apple class are \"override\", when we \n",
    "        //upcast an Apple into a Fruit, the Apple version of the \n",
    "        //Methods are used.\n",
    "        Fruit myFruit = new Apple();\n",
    "        myFruit.SayHello();\n",
    "        myFruit.Chop();\n",
    "    }\n",
    "}"
   ]
  }
 ],
 "metadata": {
  "kernelspec": {
   "display_name": ".NET (C#)",
   "language": "C#",
   "name": ".net-csharp"
  },
  "language_info": {
   "file_extension": ".cs",
   "mimetype": "text/x-csharp",
   "name": "C#",
   "pygments_lexer": "csharp",
   "version": "8.0"
  }
 },
 "nbformat": 4,
 "nbformat_minor": 4
}

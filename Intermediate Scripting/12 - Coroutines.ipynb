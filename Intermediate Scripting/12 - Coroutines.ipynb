{
 "cells": [
  {
   "cell_type": "markdown",
   "metadata": {},
   "source": [
    "# Coroutines"
   ]
  },
  {
   "cell_type": "code",
   "execution_count": null,
   "metadata": {},
   "outputs": [],
   "source": [
    "using UnityEngine;\n",
    "using System.Collections;\n",
    "\n",
    "public class CoroutinesExample : MonoBehaviour\n",
    "{\n",
    "    public float smoothing = 1f;\n",
    "    public Transform target;\n",
    "\n",
    "\n",
    "    void Start ()\n",
    "    {\n",
    "        StartCoroutine(MyCoroutine(target));\n",
    "    }\n",
    "\n",
    "\n",
    "    IEnumerator MyCoroutine (Transform target)\n",
    "    {\n",
    "        while(Vector3.Distance(transform.position, target.position) > 0.05f)\n",
    "        {\n",
    "            transform.position = Vector3.Lerp(transform.position, target.position, smoothing * Time.deltaTime);\n",
    "\n",
    "            yield return null;\n",
    "        }\n",
    "\n",
    "        print(\"Reached the target.\");\n",
    "\n",
    "        yield return new WaitForSeconds(3f);\n",
    "\n",
    "        print(\"MyCoroutine is now finished.\");\n",
    "    }\n",
    "}"
   ]
  },
  {
   "cell_type": "code",
   "execution_count": null,
   "metadata": {},
   "outputs": [],
   "source": [
    "using UnityEngine;\n",
    "using System.Collections;\n",
    "\n",
    "public class PropertiesAndCoroutines : MonoBehaviour\n",
    "{\n",
    "    public float smoothing = 7f;\n",
    "    public Vector3 Target\n",
    "    {\n",
    "        get { return target; }\n",
    "        set\n",
    "        {\n",
    "            target = value;\n",
    "\n",
    "            StopCoroutine(\"Movement\");\n",
    "            StartCoroutine(\"Movement\", target);\n",
    "        }\n",
    "    }\n",
    "\n",
    "\n",
    "    private Vector3 target;\n",
    "\n",
    "\n",
    "    IEnumerator Movement (Vector3 target)\n",
    "    {\n",
    "        while(Vector3.Distance(transform.position, target) > 0.05f)\n",
    "        {\n",
    "            transform.position = Vector3.Lerp(transform.position, target, smoothing * Time.deltaTime);\n",
    "\n",
    "            yield return null;\n",
    "        }\n",
    "    }\n",
    "}"
   ]
  },
  {
   "cell_type": "code",
   "execution_count": null,
   "metadata": {},
   "outputs": [],
   "source": [
    "using UnityEngine;\n",
    "using System.Collections;\n",
    "\n",
    "public class ClickSetPosition : MonoBehaviour\n",
    "{\n",
    "    public PropertiesAndCoroutines coroutineScript;\n",
    "\n",
    "\n",
    "    void OnMouseDown ()\n",
    "    {\n",
    "        Ray ray = Camera.main.ScreenPointToRay(Input.mousePosition);\n",
    "        RaycastHit hit;\n",
    "\n",
    "        Physics.Raycast(ray, out hit);\n",
    "\n",
    "        if(hit.collider.gameObject == gameObject)\n",
    "        {\n",
    "            Vector3 newTarget = hit.point + new Vector3(0, 0.5f, 0);\n",
    "            coroutineScript.Target = newTarget;\n",
    "        }\n",
    "    }\n",
    "}"
   ]
  }
 ],
 "metadata": {
  "kernelspec": {
   "display_name": ".NET (C#)",
   "language": "C#",
   "name": ".net-csharp"
  },
  "language_info": {
   "file_extension": ".cs",
   "mimetype": "text/x-csharp",
   "name": "C#",
   "pygments_lexer": "csharp",
   "version": "8.0"
  }
 },
 "nbformat": 4,
 "nbformat_minor": 4
}

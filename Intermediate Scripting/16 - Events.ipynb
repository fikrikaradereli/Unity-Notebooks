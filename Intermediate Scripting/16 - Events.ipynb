{
 "cells": [
  {
   "cell_type": "markdown",
   "metadata": {},
   "source": [
    "# Events"
   ]
  },
  {
   "cell_type": "code",
   "execution_count": null,
   "metadata": {},
   "outputs": [],
   "source": [
    "using UnityEngine;\n",
    "using System.Collections;\n",
    "\n",
    "public class EventManager : MonoBehaviour \n",
    "{\n",
    "    public delegate void ClickAction();\n",
    "    public static event ClickAction OnClicked;\n",
    "\n",
    "\n",
    "    void OnGUI()\n",
    "    {\n",
    "        if(GUI.Button(new Rect(Screen.width / 2 - 50, 5, 100, 30), \"Click\"))\n",
    "        {\n",
    "            if(OnClicked != null)\n",
    "                OnClicked();\n",
    "        }\n",
    "    }\n",
    "}"
   ]
  },
  {
   "cell_type": "code",
   "execution_count": null,
   "metadata": {},
   "outputs": [],
   "source": [
    "using UnityEngine;\n",
    "using System.Collections;\n",
    "\n",
    "public class TeleportScript : MonoBehaviour \n",
    "{\n",
    "    void OnEnable()\n",
    "    {\n",
    "        EventManager.OnClicked += Teleport;\n",
    "    }\n",
    "\n",
    "\n",
    "    void OnDisable()\n",
    "    {\n",
    "        EventManager.OnClicked -= Teleport;\n",
    "    }\n",
    "\n",
    "\n",
    "    void Teleport()\n",
    "    {\n",
    "        Vector3 pos = transform.position;\n",
    "        pos.y = Random.Range(1.0f, 3.0f);\n",
    "        transform.position = pos;\n",
    "    }\n",
    "}"
   ]
  },
  {
   "cell_type": "code",
   "execution_count": null,
   "metadata": {},
   "outputs": [],
   "source": [
    "using UnityEngine;\n",
    "using System.Collections;\n",
    "\n",
    "public class TurnColorScript : MonoBehaviour \n",
    "{\n",
    "    void OnEnable()\n",
    "    {\n",
    "        EventManager.OnClicked += TurnColor;\n",
    "    }\n",
    "\n",
    "\n",
    "    void OnDisable()\n",
    "    {\n",
    "        EventManager.OnClicked -= TurnColor;\n",
    "    }\n",
    "\n",
    "\n",
    "    void TurnColor()\n",
    "    {\n",
    "        Color col = new Color(Random.value, Random.value, Random.value);\n",
    "        renderer.material.color = col;\n",
    "    }\n",
    "}"
   ]
  }
 ],
 "metadata": {
  "kernelspec": {
   "display_name": ".NET (C#)",
   "language": "C#",
   "name": ".net-csharp"
  },
  "language_info": {
   "file_extension": ".cs",
   "mimetype": "text/x-csharp",
   "name": "C#",
   "pygments_lexer": "csharp",
   "version": "8.0"
  }
 },
 "nbformat": 4,
 "nbformat_minor": 4
}

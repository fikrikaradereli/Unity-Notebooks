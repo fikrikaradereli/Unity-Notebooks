{
 "cells": [
  {
   "cell_type": "markdown",
   "metadata": {},
   "source": [
    "# Bir Nesnenin Diğerini Takip Etmesi\n",
    "\n",
    "Hedef nesnenin referansı alınır (editör inspector'da sürükleyerek ya da ```GameObject.Find()``` ile). Burda player hedef objedir. Hedef nesnenin pozisyonundan mevcut olanın pozisyonu çıkarılır. Bu vektör geçerli nesneye kuvvet olarak uygulanır. Vektörün normalize edilmesinin sebebi ise uzaklık arttıkça vektör büyür bu sebeple uygulanan kuvvet de büyük olur. Bu da uzaktayken hızlı yaklaştıkça yavaş bir kuvvet uygulanmasına sebep olur. Sabit hızla yaklaşması için normalize edilmelidir."
   ]
  },
  {
   "cell_type": "code",
   "execution_count": null,
   "metadata": {},
   "outputs": [],
   "source": [
    "public class Enemy : MonoBehaviour\n",
    "{\n",
    "    public float speed = 3.0f;\n",
    "    private Rigidbody enemyRb;\n",
    "    private GameObject player;\n",
    "\n",
    "    // Start is called before the first frame update\n",
    "    void Start()\n",
    "    {\n",
    "        enemyRb = GetComponent<Rigidbody>();\n",
    "        player = GameObject.Find(\"Player\");\n",
    "    }\n",
    "\n",
    "    // Update is called once per frame\n",
    "    void Update()\n",
    "    {\n",
    "        Vector3 lookDirection = (player.transform.position - transform.position).normalized;\n",
    "        enemyRb.AddForce(lookDirection * speed);    \n",
    "    }\n",
    "}"
   ]
  }
 ],
 "metadata": {
  "kernelspec": {
   "display_name": ".NET (C#)",
   "language": "C#",
   "name": ".net-csharp"
  },
  "language_info": {
   "file_extension": ".cs",
   "mimetype": "text/x-csharp",
   "name": "C#",
   "pygments_lexer": "csharp",
   "version": "8.0"
  }
 },
 "nbformat": 4,
 "nbformat_minor": 4
}

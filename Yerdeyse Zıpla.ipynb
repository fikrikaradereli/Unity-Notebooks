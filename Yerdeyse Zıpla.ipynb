{
 "cells": [
  {
   "cell_type": "markdown",
   "metadata": {},
   "source": [
    "# Yerdeyse zıpla\n",
    "\n",
    "Bir tane boolean bayrak değişkeni (burda isOnGround) oluşturup zıplama şartı buna bağlanır. OnCollisionEnter'la true'ya çekilip zıplama izni verilir. Zıpladıktan sonra false yapılır ki yere değmeden zıplayamasın."
   ]
  },
  {
   "cell_type": "code",
   "execution_count": null,
   "metadata": {},
   "outputs": [],
   "source": [
    "using System.Collections;\n",
    "using System.Collections.Generic;\n",
    "using UnityEngine;\n",
    "\n",
    "public class PlayerController : MonoBehaviour\n",
    "{\n",
    "    private Rigidbody playerRb;\n",
    "    public float jumpForce;\n",
    "    public bool isOnGround = true;\n",
    "\n",
    "    // Start is called before the first frame update\n",
    "    void Start()\n",
    "    {\n",
    "        playerRb = GetComponent<Rigidbody>();\n",
    "    }\n",
    "\n",
    "    // Update is called once per frame\n",
    "    void Update()\n",
    "    {\n",
    "        if (Input.GetKeyDown(KeyCode.Space) && isOnGround)\n",
    "        {\n",
    "            playerRb.AddForce(Vector3.up * jumpForce, ForceMode.Impulse);\n",
    "            isOnGround = false;\n",
    "        }\n",
    "    }\n",
    "\n",
    "    private void OnCollisionEnter(Collision collision)\n",
    "    {\n",
    "        isOnGround = true;\n",
    "    }\n",
    "}\n"
   ]
  }
 ],
 "metadata": {
  "kernelspec": {
   "display_name": ".NET (C#)",
   "language": "C#",
   "name": ".net-csharp"
  },
  "language_info": {
   "file_extension": ".cs",
   "mimetype": "text/x-csharp",
   "name": "C#",
   "pygments_lexer": "csharp",
   "version": "8.0"
  }
 },
 "nbformat": 4,
 "nbformat_minor": 4
}

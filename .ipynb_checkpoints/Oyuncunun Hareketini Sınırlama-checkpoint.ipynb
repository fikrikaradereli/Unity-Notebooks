{
 "cells": [
  {
   "cell_type": "markdown",
   "metadata": {},
   "source": [
    "# Oyuncu kontrolü\n",
    "\n",
    "Player'ın belirli sınırlar dışına çıkmasını engellemek için önce bir menzil belirleriz. Player'ın pozisyon sınırların dışındaysa tam sınır değerini pozisyona tekrar atarız."
   ]
  },
  {
   "cell_type": "code",
   "execution_count": null,
   "metadata": {},
   "outputs": [],
   "source": [
    "public class PlayerController : MonoBehaviour\n",
    "{\n",
    "    public float horizontalInput;\n",
    "    public float speed = 10.0f;\n",
    "    public float xRange = 20.0f;\n",
    "\n",
    "    // Update is called once per frame\n",
    "    void Update()\n",
    "    {\n",
    "        if (transform.position.x < -xRange)\n",
    "        {\n",
    "            transform.position = new Vector3(-xRange, transform.position.y, transform.position.z);\n",
    "        }\n",
    "\n",
    "        if (transform.position.x > xRange)\n",
    "        {\n",
    "            transform.position = new Vector3(xRange, transform.position.y, transform.position.z);\n",
    "        }\n",
    "\n",
    "        horizontalInput = Input.GetAxis(\"Horizontal\");\n",
    "        transform.Translate(Vector3.right * Time.deltaTime * speed * horizontalInput);\n",
    "    }\n",
    "}"
   ]
  }
 ],
 "metadata": {
  "kernelspec": {
   "display_name": ".NET (C#)",
   "language": "C#",
   "name": ".net-csharp"
  },
  "language_info": {
   "file_extension": ".cs",
   "mimetype": "text/x-csharp",
   "name": "C#",
   "pygments_lexer": "csharp",
   "version": "8.0"
  }
 },
 "nbformat": 4,
 "nbformat_minor": 4
}

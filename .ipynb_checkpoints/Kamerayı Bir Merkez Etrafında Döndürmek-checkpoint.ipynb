{
 "cells": [
  {
   "cell_type": "markdown",
   "metadata": {},
   "source": [
    "# Kamerayı Bir Merkez Etrafında Döndürmek\n",
    "\n",
    "Bir tane boş game objesi yaratılıp main camera child obje olarak içine atanır. Parent objeye focal point denebilir. Focal Point, script ile döndürüldüğünde kamera da dönmüş olur."
   ]
  },
  {
   "cell_type": "code",
   "execution_count": null,
   "metadata": {},
   "outputs": [],
   "source": [
    "public class RotateCamera : MonoBehaviour\n",
    "{\n",
    "    public float rotationSpeed;\n",
    "\n",
    "    // Start is called before the first frame update\n",
    "    void Start()\n",
    "    {\n",
    "        \n",
    "    }\n",
    "\n",
    "    // Update is called once per frame\n",
    "    void Update()\n",
    "    {\n",
    "        float horizontalInput = Input.GetAxis(\"Horizontal\");\n",
    "        transform.Rotate(Vector3.up, horizontalInput * Time.deltaTime * rotationSpeed);\n",
    "    }\n",
    "}"
   ]
  },
  {
   "cell_type": "markdown",
   "metadata": {},
   "source": [
    "Eğer oyuncunun kameranın açısına göre hareket etmesini istiyorsak:"
   ]
  },
  {
   "cell_type": "code",
   "execution_count": null,
   "metadata": {},
   "outputs": [],
   "source": [
    "public class PlayerController : MonoBehaviour\n",
    "{\n",
    "    private Rigidbody playerRb;\n",
    "    private GameObject focalPoint;\n",
    "\n",
    "    private float speed = 5.0f;\n",
    "\n",
    "    // Start is called before the first frame update\n",
    "    void Start()\n",
    "    {\n",
    "        playerRb = GetComponent<Rigidbody>();\n",
    "        focalPoint = GameObject.Find(\"Focal Point\");\n",
    "    }\n",
    "\n",
    "    // Update is called once per frame\n",
    "    void Update()\n",
    "    {\n",
    "        float forwardInput = Input.GetAxis(\"Vertical\");        \n",
    "        // Player sadece ileri ve geri hareket ediyor. Kameranın bakış açısına göre ileri ve geri gidebiliyor.\n",
    "        playerRb.AddForce(focalPoint.transform.forward * speed * forwardInput);\n",
    "    }\n",
    "}\n"
   ]
  }
 ],
 "metadata": {
  "kernelspec": {
   "display_name": ".NET (C#)",
   "language": "C#",
   "name": ".net-csharp"
  },
  "language_info": {
   "file_extension": ".cs",
   "mimetype": "text/x-csharp",
   "name": "C#",
   "pygments_lexer": "csharp",
   "version": "8.0"
  }
 },
 "nbformat": 4,
 "nbformat_minor": 4
}

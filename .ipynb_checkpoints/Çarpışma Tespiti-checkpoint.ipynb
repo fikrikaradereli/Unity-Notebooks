{
 "cells": [
  {
   "cell_type": "markdown",
   "metadata": {},
   "source": [
    "# Collision Detection\n",
    "\n",
    "Çarpısan iki nesneyi saptar. gameObject script'in ekli olduğu nesneyken other onunla çarpışan nesnedir.\n",
    "\n",
    "- İki nesnenin çarpışmasını tespit ederken fiziksel olarak etkileşime girmesini istemiyorsak collider komponentinde Is Triggger özelliğinin seçili olması gerekir."
   ]
  },
  {
   "cell_type": "code",
   "execution_count": null,
   "metadata": {},
   "outputs": [],
   "source": [
    "private void OnTriggerEnter(Collider other)\n",
    "{\n",
    "    Destroy(gameObject);\n",
    "    Destroy(other.gameObject);\n",
    "}"
   ]
  }
 ],
 "metadata": {
  "kernelspec": {
   "display_name": ".NET (C#)",
   "language": "C#",
   "name": ".net-csharp"
  },
  "language_info": {
   "file_extension": ".cs",
   "mimetype": "text/x-csharp",
   "name": "C#",
   "pygments_lexer": "csharp",
   "version": "8.0"
  }
 },
 "nbformat": 4,
 "nbformat_minor": 4
}

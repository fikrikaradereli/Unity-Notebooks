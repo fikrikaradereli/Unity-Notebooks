{
 "cells": [
  {
   "cell_type": "markdown",
   "metadata": {},
   "source": [
    "# Güç Arttırma - Powerup\n",
    "\n",
    "Başlangıçta sahnede aktif olmayan bir powerup indicator nesnesi ve powerup aktifliğini takip etmek için bir değişken (burda hasPowerup) oluşturulur. Powerup ların rigidbdy si yoktur. ```IsTrigger```'ı aktif bir collider'ı vardır. Böylece çarpışırlar ama fiziksel etkileşime girmezler. Powerup'ın alındığını ```OnTriggerEnter()``` ile takip ederiz. Powerup alınırsa ilgili değişken true ya çekilir, sahnedeki indicator nesnesi ```SetActive()``` ile aktifleştirilir ve powerup nesnesinin kendisi yok edilir. Powerup sonsuza kadar aktif kalmaması için bir ```coroutine``` yazılır. Belirlenen süre geçtikten sonra powerup deaktifleştirilir (```PowerupCountdownRoutine()``` metodu). Powerup'a sahipken Enemy nesnesi ile çarpışma gerçekleşirse Enemy'ye ekstra bir güç uygulanır."
   ]
  },
  {
   "cell_type": "code",
   "execution_count": null,
   "metadata": {},
   "outputs": [],
   "source": [
    "public class PlayerController : MonoBehaviour\n",
    "{\n",
    "    private Rigidbody playerRb;\n",
    "    public GameObject powerupIndicator;\n",
    "\n",
    "    private float speed = 5.0f;\n",
    "    private float powerupStrength = 15.0f;\n",
    "    public bool hasPowerup = false;\n",
    "\n",
    "    // Start is called before the first frame update\n",
    "    void Start()\n",
    "    {\n",
    "        playerRb = GetComponent<Rigidbody>();\n",
    "    }\n",
    "\n",
    "    // Update is called once per frame\n",
    "    void Update()\n",
    "    {\n",
    "        powerupIndicator.transform.position = transform.position + new Vector3(0, -0.5f, 0);\n",
    "    }\n",
    "\n",
    "    private void OnTriggerEnter(Collider other)\n",
    "    {\n",
    "        if (other.CompareTag(\"Powerup\"))\n",
    "        {\n",
    "            hasPowerup = true;\n",
    "            powerupIndicator.SetActive(true);\n",
    "            Destroy(other.gameObject);\n",
    "            StartCoroutine(PowerupCountdownRoutine());\n",
    "        }\n",
    "    }\n",
    "\n",
    "    private void OnCollisionEnter(Collision collision)\n",
    "    {\n",
    "        if (collision.gameObject.CompareTag(\"Enemy\") && hasPowerup)\n",
    "        {\n",
    "            Rigidbody enemyRb = collision.gameObject.GetComponent<Rigidbody>();\n",
    "            Vector3 awayFromPlayer = collision.gameObject.transform.position - transform.position;\n",
    "\n",
    "            enemyRb.AddForce(awayFromPlayer * powerupStrength, ForceMode.Impulse);\n",
    "        }\n",
    "    }\n",
    "\n",
    "    IEnumerator PowerupCountdownRoutine()\n",
    "    {\n",
    "        yield return new WaitForSeconds(7);\n",
    "        hasPowerup = false;\n",
    "        powerupIndicator.SetActive(false);\n",
    "    }\n",
    "}\n"
   ]
  }
 ],
 "metadata": {
  "kernelspec": {
   "display_name": ".NET (C#)",
   "language": "C#",
   "name": ".net-csharp"
  },
  "language_info": {
   "file_extension": ".cs",
   "mimetype": "text/x-csharp",
   "name": "C#",
   "pygments_lexer": "csharp",
   "version": "8.0"
  }
 },
 "nbformat": 4,
 "nbformat_minor": 4
}

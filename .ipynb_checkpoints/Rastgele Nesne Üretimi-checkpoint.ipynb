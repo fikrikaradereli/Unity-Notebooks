{
 "cells": [
  {
   "cell_type": "markdown",
   "metadata": {},
   "source": [
    "# Rastgele Nesne Üretimi - *Spawn Manager*\n",
    "\n",
    "Üretilecek nesneler için public game obje dizisi oluşturulup editörde ilgili prefabler sürüklenir.\n",
    "\n",
    "Random.Range() fonksiyonu ile objelerden biri rastgele seçilir. Range'ın ikinci parametresi hariçtir. Objenin bir eksende rastgele bir pozisyonda üretilmesi için tekrar Range() fonksiyonu kullanılabilir. Instantiate() ile nesne üretilir."
   ]
  },
  {
   "cell_type": "code",
   "execution_count": null,
   "metadata": {},
   "outputs": [],
   "source": [
    "public class SpawnManager : MonoBehaviour\n",
    "{\n",
    "    public GameObject[] animalPrefabs;\n",
    "    private float spawnRangeX = 20.0f;\n",
    "    private float spawnPosZ = 20.0f;\n",
    "\n",
    "    void Update()\n",
    "    {\n",
    "        if (Input.GetKeyDown(KeyCode.s))\n",
    "        {\n",
    "\n",
    "            int animalIndex = Random.Range(0, animalPrefabs.Length);\n",
    "            Vector3 spawnPos = new Vector3(Random.Range(-spawnRangeX, spawnRangeX), 0, spawnPosZ);\n",
    "\n",
    "            Instantiate(animalPrefabs[animalIndex], spawnPos, animalPrefabs[animalIndex].transform.rotation);\n",
    "        }\n",
    "    }\n",
    "\n",
    "\n",
    "}\n"
   ]
  },
  {
   "cell_type": "markdown",
   "metadata": {},
   "source": [
    "Tabi bu üretimin bir tuş vasıtası ile olması mantıklı olmaz. Temel mantık anlaşıldıysa bir sonraki ve gerçek senaryoya geçelim. Spawn lociğimizi bir metoda taşıyıp Start() içinde InvokeRepeating() fonksiyonu ile çağırmalıyız. İlk parametre string olarak fonksiyon ismidir. İkinci parametre ise başlangıç gecikmesi yani sahne açıldıktan kaç sn sonra spawn etmeye başlanacağıdır. Son parametre ise kaç snde bir spawn edeceğidir.\n",
    "* Bir ileriki senaryo olarak spawnInterval de Random.Range() ile verilebilir.```Random.Range(spawnIntervalStart, spawnIntervalEnd)```.<br><br>Yani full kod:<br>```InvokeRepeating(\"SpawnRandomAnimal\", startDelay, Random.Range(spawnIntervalStart, spawnIntervalEnd));\n",
    "```"
   ]
  },
  {
   "cell_type": "code",
   "execution_count": null,
   "metadata": {},
   "outputs": [],
   "source": [
    "public class SpawnManager : MonoBehaviour\n",
    "{\n",
    "    public GameObject[] animalPrefabs;\n",
    "    private float spawnRangeX = 20.0f;\n",
    "    private float spawnPosZ = 20.0f;\n",
    "\n",
    "    private float startDelay = 2.0f;\n",
    "    private float spawnInterval = 1.5f;\n",
    "\n",
    "    // Start is called before the first frame update\n",
    "    void Start()\n",
    "    {\n",
    "        InvokeRepeating(\"SpawnRandomAnimal\", startDelay, spawnInterval);\n",
    "    }\n",
    "\n",
    "\n",
    "    void SpawnRandomAnimal()\n",
    "    {\n",
    "        int animalIndex = Random.Range(0, animalPrefabs.Length);\n",
    "        Vector3 spawnPos = new Vector3(Random.Range(-spawnRangeX, spawnRangeX), 0, spawnPosZ);\n",
    "\n",
    "        Instantiate(animalPrefabs[animalIndex], spawnPos, animalPrefabs[animalIndex].transform.rotation);\n",
    "    }\n",
    "}"
   ]
  }
 ],
 "metadata": {
  "kernelspec": {
   "display_name": ".NET (C#)",
   "language": "C#",
   "name": ".net-csharp"
  },
  "language_info": {
   "file_extension": ".cs",
   "mimetype": "text/x-csharp",
   "name": "C#",
   "pygments_lexer": "csharp",
   "version": "8.0"
  }
 },
 "nbformat": 4,
 "nbformat_minor": 4
}

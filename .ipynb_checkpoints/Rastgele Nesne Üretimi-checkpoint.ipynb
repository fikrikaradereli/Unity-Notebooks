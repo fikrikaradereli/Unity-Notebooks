{
 "cells": [
  {
   "cell_type": "markdown",
   "metadata": {},
   "source": [
    "# Rastgele Nesne Üretimi - *Spawn Manager*\n",
    "\n",
    "Üretilecek nesneler için public game obje dizisi oluşturulup editörde ilgili prefabler sürüklenir.\n",
    "\n",
    "Random.Range() fonksiyonu ile objelerden biri rastgele seçilir. Range'ın ikinci parametresi hariçtir. Objenin bir eksende rastgele bir pozisyonda üretilmesi için tekrar Range() fonksiyonu kullanılabilir. Instantiate() ile nesne üretilir."
   ]
  },
  {
   "cell_type": "code",
   "execution_count": null,
   "metadata": {},
   "outputs": [],
   "source": [
    "public class SpawnManager : MonoBehaviour\n",
    "{\n",
    "    public GameObject[] animalPrefabs;\n",
    "    private float spawnRangeX = 20.0f;\n",
    "    private float spawnPosZ = 20.0f;\n",
    "\n",
    "    void Update()\n",
    "    {\n",
    "        if (Input.GetKeyDown(KeyCode.s))\n",
    "        {\n",
    "\n",
    "            int animalIndex = Random.Range(0, animalPrefabs.Length);\n",
    "            Vector3 spawnPos = new Vector3(Random.Range(-spawnRangeX, spawnRangeX), 0, spawnPosZ);\n",
    "\n",
    "            Instantiate(animalPrefabs[animalIndex], spawnPos, animalPrefabs[animalIndex].transform.rotation);\n",
    "        }\n",
    "    }\n",
    "\n",
    "\n",
    "}\n"
   ]
  },
  {
   "cell_type": "markdown",
   "metadata": {},
   "source": [
    "Tabi bu üretimin bir tuş vasıtası ile olması mantıklı olmaz. Temel mantık anlaşıldıysa bir sonraki ve gerçek senaryoya geçelim. Spawn lociğimizi bir metoda taşıyıp Start() içinde InvokeRepeating() fonksiyonu ile çağırmalıyız. İlk parametre string olarak fonksiyon ismidir. İkinci parametre ise başlangıç gecikmesi yani sahne açıldıktan kaç sn sonra spawn etmeye başlanacağıdır. Son parametre ise kaç snde bir spawn edeceğidir.\n",
    "* Bir ileriki senaryo olarak spawnInterval de Random.Range() ile verilebilir.```Random.Range(spawnIntervalStart, spawnIntervalEnd)```.<br><br>Yani full kod:<br>```InvokeRepeating(\"SpawnRandomAnimal\", startDelay, Random.Range(spawnIntervalStart, spawnIntervalEnd));\n",
    "```"
   ]
  },
  {
   "cell_type": "code",
   "execution_count": null,
   "metadata": {},
   "outputs": [],
   "source": [
    "public class SpawnManager : MonoBehaviour\n",
    "{\n",
    "    public GameObject[] animalPrefabs;\n",
    "    private float spawnRangeX = 20.0f;\n",
    "    private float spawnPosZ = 20.0f;\n",
    "\n",
    "    private float startDelay = 2.0f;\n",
    "    private float spawnInterval = 1.5f;\n",
    "\n",
    "    // Start is called before the first frame update\n",
    "    void Start()\n",
    "    {\n",
    "        InvokeRepeating(\"SpawnRandomAnimal\", startDelay, spawnInterval);\n",
    "    }\n",
    "\n",
    "\n",
    "    void SpawnRandomAnimal()\n",
    "    {\n",
    "        int animalIndex = Random.Range(0, animalPrefabs.Length);\n",
    "        Vector3 spawnPos = new Vector3(Random.Range(-spawnRangeX, spawnRangeX), 0, spawnPosZ);\n",
    "\n",
    "        Instantiate(animalPrefabs[animalIndex], spawnPos, animalPrefabs[animalIndex].transform.rotation);\n",
    "    }\n",
    "}"
   ]
  },
  {
   "cell_type": "markdown",
   "metadata": {},
   "source": [
    "## Giderek Artan Sayıda Nesne Üretimi\n",
    "\n",
    "Sahnedeki düşman sayısı sıfır olduğunda düşman üretilir. Her seferinde öncekinden bir fazla olacak şekilde bunu yapmak için başlangıçta değeri 1 olan bir değişken yaratılır. Her spawn sırasında bu değer arttırılır."
   ]
  },
  {
   "cell_type": "code",
   "execution_count": null,
   "metadata": {},
   "outputs": [],
   "source": [
    "public class SpawnManager : MonoBehaviour\n",
    "{\n",
    "    public GameObject enemyPrefab;\n",
    "    public GameObject powerupPrefab;\n",
    "    private float spawnRange = 9.0f;\n",
    "    public int enemyCount;\n",
    "    public int waveNumber = 1;\n",
    "\n",
    "    // Start is called before the first frame update\n",
    "    void Start()\n",
    "    {\n",
    "        SpawnEnemyWave(waveNumber);\n",
    "    }\n",
    "\n",
    "    // Update is called once per frame\n",
    "    void Update()\n",
    "    {\n",
    "        enemyCount = FindObjectsOfType<Enemy>().Length;\n",
    "        if (enemyCount == 0)\n",
    "        {\n",
    "            waveNumber++;\n",
    "            SpawnEnemyWave(waveNumber);\n",
    "            // SpawnEnemyWave(++waveNumber); samething\n",
    "        }\n",
    "    }\n",
    "\n",
    "    private void SpawnEnemyWave(int enemiesToSpawn)\n",
    "    {\n",
    "        for (int i = 0; i < enemiesToSpawn; i++)\n",
    "        {\n",
    "            Instantiate(enemyPrefab, GenerateSpawnPosition(), enemyPrefab.transform.rotation);\n",
    "        }\n",
    "        \n",
    "        // If no powerups remain, spawn a powerup\n",
    "        if (GameObject.FindGameObjectsWithTag(\"Powerup\").Length == 0)\n",
    "        {\n",
    "            Instantiate(powerupPrefab, GenerateSpawnPosition(), powerupPrefab.transform.rotation);\n",
    "        }\n",
    "    }\n",
    "\n",
    "    private Vector3 GenerateSpawnPosition()\n",
    "    {\n",
    "        float spawnPosX = Random.Range(-spawnRange, spawnRange);\n",
    "        float spawnPosZ = Random.Range(-spawnRange, spawnRange);\n",
    "        \n",
    "        return new Vector3(spawnPosX, 0, spawnPosZ);\n",
    "    }\n",
    "}"
   ]
  }
 ],
 "metadata": {
  "kernelspec": {
   "display_name": ".NET (C#)",
   "language": "C#",
   "name": ".net-csharp"
  },
  "language_info": {
   "file_extension": ".cs",
   "mimetype": "text/x-csharp",
   "name": "C#",
   "pygments_lexer": "csharp",
   "version": "8.0"
  }
 },
 "nbformat": 4,
 "nbformat_minor": 4
}

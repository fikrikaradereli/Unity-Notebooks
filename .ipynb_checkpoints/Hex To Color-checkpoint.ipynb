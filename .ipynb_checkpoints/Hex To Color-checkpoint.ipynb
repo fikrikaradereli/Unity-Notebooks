{
 "cells": [
  {
   "cell_type": "markdown",
   "metadata": {},
   "source": [
    "# Hex To Color\n",
    "\n",
    "Unity Color sınıfı renkler için RGBA kodlarını kullanıyor. Bunun için özel bir yardımcı sınıf yazmak kullanışlı olur. Sınıf ve kullanımıysa şöyledir:"
   ]
  },
  {
   "cell_type": "markdown",
   "metadata": {},
   "source": [
    "Helper class: ```Utils/HexToColor.cs```"
   ]
  },
  {
   "cell_type": "code",
   "execution_count": null,
   "metadata": {},
   "outputs": [],
   "source": [
    "using UnityEngine;\n",
    "using System;\n",
    "\n",
    "namespace Assets.Scripts.Utils\n",
    "{\n",
    "    public static class HexToColor\n",
    "    {\n",
    "        // Example: \"#ff000099\".ToColor() red with alpha ~50%\n",
    "        // Example: \"ffffffff\".ToColor() white with alpha 100%\n",
    "        // Example: \"00ff00\".ToColor() green with alpha 100%\n",
    "        // Example: \"0000ff00\".ToColor() blue with alpha 0%\n",
    "        public static Color ToColor(this string color)\n",
    "        {\n",
    "            if (color.StartsWith(\"#\", StringComparison.InvariantCulture))\n",
    "            {\n",
    "                color = color.Substring(1); // strip #\n",
    "            }\n",
    "\n",
    "            if (color.Length == 6)\n",
    "            {\n",
    "                color += \"FF\"; // add alpha if missing\n",
    "            }\n",
    "\n",
    "            var hex = Convert.ToUInt32(color, 16);\n",
    "            var r = ((hex & 0xff000000) >> 0x18) / 255f;\n",
    "            var g = ((hex & 0xff0000) >> 0x10) / 255f;\n",
    "            var b = ((hex & 0xff00) >> 8) / 255f;\n",
    "            var a = ((hex & 0xff)) / 255f;\n",
    "\n",
    "            return new Color(r, g, b, a);\n",
    "        }\n",
    "    }\n",
    "}"
   ]
  },
  {
   "cell_type": "markdown",
   "metadata": {},
   "source": [
    "Usage: ```Cube.cs```"
   ]
  },
  {
   "cell_type": "code",
   "execution_count": null,
   "metadata": {},
   "outputs": [],
   "source": [
    "using System.Collections;\n",
    "using System.Collections.Generic;\n",
    "using UnityEngine;\n",
    "using Assets.Scripts.Utils;\n",
    "\n",
    "\n",
    "public class Cube : MonoBehaviour\n",
    "{\n",
    "    private readonly Color[] colors = { \"#ffa724\".ToColor(), \"#134e6f\".ToColor(), \"#ff6150\".ToColor(), \"#1ac0c6\".ToColor() };\n",
    "\n",
    "    void Start()\n",
    "    {\n",
    "        InvokeRepeating(nameof(RandomColor), 0.0f, 1.0f);\n",
    "    }\n",
    "\n",
    "    void RandomColor()\n",
    "    {\n",
    "        GetComponent<Renderer>().material.color = colors[Random.Range(0, colors.Length)];\n",
    "    }\n",
    "}"
   ]
  }
 ],
 "metadata": {
  "kernelspec": {
   "display_name": ".NET (C#)",
   "language": "C#",
   "name": ".net-csharp"
  },
  "language_info": {
   "file_extension": ".cs",
   "mimetype": "text/x-csharp",
   "name": "C#",
   "pygments_lexer": "csharp",
   "version": "8.0"
  }
 },
 "nbformat": 4,
 "nbformat_minor": 4
}

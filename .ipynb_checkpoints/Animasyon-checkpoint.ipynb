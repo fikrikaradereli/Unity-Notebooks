{
 "cells": [
  {
   "cell_type": "markdown",
   "metadata": {},
   "source": [
    "# Animasyon\n",
    "\n",
    "Animator nesnesi oluşturulur ```SetBool()```, ```SetInteger()``` gibi metotlarla parametreler değiştirilerek durum (state) geçişleri sağlanır."
   ]
  },
  {
   "cell_type": "code",
   "execution_count": null,
   "metadata": {},
   "outputs": [],
   "source": [
    "public class PlayerController : MonoBehaviour\n",
    "{\n",
    "    private Animator playerAnim;\n",
    "\n",
    "    // Start is called before the first frame update\n",
    "    void Start()\n",
    "    {\n",
    "        playerAnim = GetComponent<Animator>();\n",
    "    }\n",
    "\n",
    "    // Update is called once per frame\n",
    "    void Update()\n",
    "    {\n",
    "        if (Input.GetKeyDown(KeyCode.Space) && isOnGround && !gameOver)\n",
    "        {\n",
    "            playerRb.AddForce(Vector3.up * jumpForce, ForceMode.Impulse);\n",
    "            playerAnim.SetTrigger(\"Jump_trig\"); // Zıplama animasyonuna geçiş\n",
    "        }\n",
    "    }\n",
    "\n",
    "    private void OnCollisionEnter(Collision collision)\n",
    "    {\n",
    "        if (collision.gameObject.CompareTag(\"Obstacle\"))\n",
    "        {\n",
    "            gameOver = true;\n",
    "            Debug.Log(\"Game Over\");\n",
    "            playerAnim.SetBool(\"Death_b\", true); // Ölüm animasyonuna geçiş\n",
    "            playerAnim.SetInteger(\"DeathType_int\", 1); // İki tip animasyon mevcutmuş. Bunlardan ilkini seçtik.\n",
    "        }\n",
    "    }\n",
    "}"
   ]
  }
 ],
 "metadata": {
  "kernelspec": {
   "display_name": ".NET (C#)",
   "language": "C#",
   "name": ".net-csharp"
  },
  "language_info": {
   "file_extension": ".cs",
   "mimetype": "text/x-csharp",
   "name": "C#",
   "pygments_lexer": "csharp",
   "version": "8.0"
  }
 },
 "nbformat": 4,
 "nbformat_minor": 4
}

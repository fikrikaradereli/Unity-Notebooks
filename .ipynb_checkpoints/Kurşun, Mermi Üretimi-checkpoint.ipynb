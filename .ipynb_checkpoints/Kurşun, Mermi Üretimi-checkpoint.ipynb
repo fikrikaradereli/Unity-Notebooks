{
 "cells": [
  {
   "cell_type": "markdown",
   "metadata": {},
   "source": [
    "# Projectile or Bullet\n",
    "\n",
    "Öncelikle kurşun için bir prefab oluşturulur. Player'da public mermi game objesi oluşturulup dışarıya açılır. Editörde bu property'ye ilgili prefab sürüklenir. Kod içinde Instantiate() metoduyla üretilir. Parametre olarak prefab, pozisyon ve rotasyon verilir (başka seçenekler de mevcut). Hangi tuşla ateş edilecekse if le kontrol edilip Instantiate() çağırılır."
   ]
  },
  {
   "cell_type": "code",
   "execution_count": null,
   "metadata": {},
   "outputs": [],
   "source": [
    "public class PlayerController : MonoBehaviour\n",
    "{\n",
    "    public GameObject projectilePrefab;\n",
    "\n",
    "    void Update()\n",
    "    {\n",
    "        // Some movement action\n",
    "\n",
    "        if (Input.GetKeyDown(KeyCode.Space))\n",
    "        {\n",
    "            Instantiate(projectilePrefab, transform.position, projectilePrefab.transform.rotation);\n",
    "        }\n",
    "    }\n",
    "}"
   ]
  }
 ],
 "metadata": {
  "kernelspec": {
   "display_name": ".NET (C#)",
   "language": "C#",
   "name": ".net-csharp"
  },
  "language_info": {
   "file_extension": ".cs",
   "mimetype": "text/x-csharp",
   "name": "C#",
   "pygments_lexer": "csharp",
   "version": "8.0"
  }
 },
 "nbformat": 4,
 "nbformat_minor": 4
}

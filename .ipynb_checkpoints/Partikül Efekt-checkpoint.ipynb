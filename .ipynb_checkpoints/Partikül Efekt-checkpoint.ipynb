{
 "cells": [
  {
   "cell_type": "markdown",
   "metadata": {},
   "source": [
    "# Partikül Efekt\n",
    "\n",
    "Partikül efekt public tanımlanıp editörde atanır. Script içinde de Play-Stop ile çalıştırılır ve durdurulur."
   ]
  },
  {
   "cell_type": "code",
   "execution_count": null,
   "metadata": {},
   "outputs": [],
   "source": [
    "public class PlayerController : MonoBehaviour\n",
    "{\n",
    "    public ParticleSystem explosionParticle;\n",
    "    public ParticleSystem dirtParticle;\n",
    "\n",
    "    // Update is called once per frame\n",
    "    void Update()\n",
    "    {\n",
    "        if (Input.GetKeyDown(KeyCode.Space) && isOnGround && !gameOver)\n",
    "        {\n",
    "            dirtParticle.Stop();\n",
    "        }\n",
    "    }\n",
    "\n",
    "    private void OnCollisionEnter(Collision collision)\n",
    "    {\n",
    "        if (collision.gameObject.CompareTag(\"Ground\"))\n",
    "        {\n",
    "            dirtParticle.Play();\n",
    "        }\n",
    "        else if (collision.gameObject.CompareTag(\"Obstacle\"))\n",
    "        {\n",
    "            explosionParticle.Play();\n",
    "            dirtParticle.Stop();\n",
    "        }\n",
    "    }\n",
    "}"
   ]
  }
 ],
 "metadata": {
  "kernelspec": {
   "display_name": ".NET (C#)",
   "language": "C#",
   "name": ".net-csharp"
  },
  "language_info": {
   "file_extension": ".cs",
   "mimetype": "text/x-csharp",
   "name": "C#",
   "pygments_lexer": "csharp",
   "version": "8.0"
  }
 },
 "nbformat": 4,
 "nbformat_minor": 4
}

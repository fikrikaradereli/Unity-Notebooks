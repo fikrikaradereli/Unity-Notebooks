{
 "cells": [
  {
   "cell_type": "markdown",
   "metadata": {},
   "source": [
    "# Spam Önleyici\n",
    "\n",
    "Player'ın en erken saniyede bir atış yapmasını sağlayan bayrak sistemi"
   ]
  },
  {
   "cell_type": "code",
   "execution_count": null,
   "metadata": {},
   "outputs": [],
   "source": [
    "public class PlayerController : MonoBehaviour\n",
    "{\n",
    "    public GameObject dogPrefab;\n",
    "    private bool cooldown = false;\n",
    "\n",
    "    // Update is called once per frame\n",
    "    void Update()\n",
    "    {\n",
    "        // On spacebar press, send dog\n",
    "        if (Input.GetKeyDown(KeyCode.Space))\n",
    "        {\n",
    "            if (cooldown == false)\n",
    "            {\n",
    "                Instantiate(dogPrefab, transform.position, dogPrefab.transform.rotation);\n",
    "                Invoke(\"ResetCooldown\", 1.0f);\n",
    "                cooldown = true;\n",
    "            }\n",
    "        }\n",
    "    }\n",
    "\n",
    "    void ResetCooldown()\n",
    "    {\n",
    "        cooldown = false;\n",
    "    }\n",
    "}"
   ]
  }
 ],
 "metadata": {
  "kernelspec": {
   "display_name": ".NET (C#)",
   "language": "C#",
   "name": ".net-csharp"
  },
  "language_info": {
   "file_extension": ".cs",
   "mimetype": "text/x-csharp",
   "name": "C#",
   "pygments_lexer": "csharp",
   "version": "8.0"
  }
 },
 "nbformat": 4,
 "nbformat_minor": 4
}

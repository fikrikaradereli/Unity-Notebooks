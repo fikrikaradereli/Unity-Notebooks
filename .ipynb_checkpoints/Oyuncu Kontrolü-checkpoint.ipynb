{
 "cells": [
  {
   "cell_type": "markdown",
   "metadata": {},
   "source": [
    "# Oyuncu Kontrolü"
   ]
  },
  {
   "cell_type": "markdown",
   "metadata": {},
   "source": [
    "```transform.Tranlate()``` ya da rigidbody'ye ```AddForce()``` ile hareket ettirmek mümkündür."
   ]
  },
  {
   "cell_type": "markdown",
   "metadata": {},
   "source": [
    "```1.yol:```"
   ]
  },
  {
   "cell_type": "code",
   "execution_count": null,
   "metadata": {},
   "outputs": [],
   "source": [
    "public class PlayerController : MonoBehaviour\n",
    "{\n",
    "    private float speed = 10.0f;\n",
    "\n",
    "    // Update is called once per frame\n",
    "    void Update()\n",
    "    {\n",
    "        float horizontalInput = Input.GetAxis(\"Horizontal\");\n",
    "        float verticalInput = Input.GetAxis(\"Vertical\");\n",
    "        transform.Translate(Vector3.right * Time.deltaTime * speed * horizontalInput);\n",
    "        transform.Translate(Vector3.forward * Time.deltaTime * speed * verticalInput);\n",
    "    }\n",
    "}"
   ]
  },
  {
   "cell_type": "markdown",
   "metadata": {},
   "source": [
    "```2.yol:```"
   ]
  },
  {
   "cell_type": "code",
   "execution_count": null,
   "metadata": {},
   "outputs": [],
   "source": [
    "public class PlayerController : MonoBehaviour\n",
    "{\n",
    "    private float speed = 10.0f;\n",
    "    private Rigidbody playerRb;\n",
    "\n",
    "    // Start is called before the first frame update\n",
    "    void Start()\n",
    "    {\n",
    "        playerRb = GetComponent<Rigidbody>();\n",
    "    }\n",
    "\n",
    "    // Update is called once per frame\n",
    "    void Update()\n",
    "    {\n",
    "        MovePlayer();\n",
    "        // Başka şeyler yap.\n",
    "    }\n",
    "\n",
    "    // Ok tuşlarına göre oyuncuyu hareket ettirir.\n",
    "    void MovePlayer()\n",
    "    {\n",
    "        float verticalInput = Input.GetAxis(\"Vertical\");\n",
    "        float horizontalInput = Input.GetAxis(\"Horizontal\");\n",
    "        playerRb.AddForce(Vector3.forward * speed * verticalInput);\n",
    "        playerRb.AddForce(Vector3.right * speed * horizontalInput);\n",
    "    }\n",
    "}"
   ]
  }
 ],
 "metadata": {
  "kernelspec": {
   "display_name": ".NET (C#)",
   "language": "C#",
   "name": ".net-csharp"
  },
  "language_info": {
   "file_extension": ".cs",
   "mimetype": "text/x-csharp",
   "name": "C#",
   "pygments_lexer": "csharp",
   "version": "8.0"
  }
 },
 "nbformat": 4,
 "nbformat_minor": 4
}

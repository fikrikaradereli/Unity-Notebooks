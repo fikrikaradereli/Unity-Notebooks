{
 "cells": [
  {
   "cell_type": "markdown",
   "metadata": {},
   "source": [
    "# Move Forward\n",
    "\n",
    "Generic script. Farklı nesnelere atanıp public speed property'si ile editör hepsine ayrı hız verilebilir. Düşman nesneleri de kurşun nesneleri de bu script'i kullanabilir."
   ]
  },
  {
   "cell_type": "code",
   "execution_count": null,
   "metadata": {},
   "outputs": [],
   "source": [
    "public class MoveForward : MonoBehaviour\n",
    "{\n",
    "    public float speed;\n",
    "\n",
    "    // Update is called once per frame\n",
    "    void Update()\n",
    "    {\n",
    "        transform.Translate(Vector3.forward * speed * Time.deltaTime);\n",
    "    }\n",
    "}"
   ]
  }
 ],
 "metadata": {
  "kernelspec": {
   "display_name": ".NET (C#)",
   "language": "C#",
   "name": ".net-csharp"
  },
  "language_info": {
   "file_extension": ".cs",
   "mimetype": "text/x-csharp",
   "name": "C#",
   "pygments_lexer": "csharp",
   "version": "8.0"
  }
 },
 "nbformat": 4,
 "nbformat_minor": 4
}
